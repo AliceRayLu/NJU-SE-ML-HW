{
 "cells": [
  {
   "cell_type": "markdown",
   "metadata": {},
   "source": [
    "# Lab3: RL\n",
    "\n",
    "运行说明：请在notebook环境下运行以看到小车移动的动态效果。notebook文件已上传，命名为`RL.ipynb`\n",
    "\n",
    "---\n",
    "\n",
    "实现CartPole小游戏，游戏场景为带有杆的小车，控制小车左右移动以实现以下条件：\n",
    "1. 杆的偏移角度不超过$15\\degree$\n",
    "2. 小车左右移动距离不超过中间到两边各2.4个单位长度。\n",
    "\n",
    "## 1 学习场景/环境设计\n",
    "游戏过程：智能体控制小车左右移动。\n",
    "\n",
    "游戏结束条件：（以下任一条满足即结束游戏）\n",
    "- 杆偏移角度 $>15\\degree$\n",
    "- 左右移动距离超过2.4个单位长度\n",
    "- 坚持时间达到$200$帧（游戏持续最长时间，奖励最大化）\n",
    "\n",
    "场景设计：\n",
    "- **state**：$\\vec{v} \\in R^4$，四维向量，维度含义如下\n",
    "    |维度|含义|范围|\n",
    "    |:--:|:--:|:--:|\n",
    "    |0 | $position$ |$-2.4$~$2.4$|\n",
    "    |1 | $speed_{car}$|$-inf$~$inf$|\n",
    "    |2 | $angle$ | $-15\\degree$~$15\\degree$ |\n",
    "    |3 | $speed_{top}$ | $-inf$~$inf$|\n",
    "    \n",
    "    首先小车当前位置和角度是判断游戏是否结束的关键，因此需要包含在状态中。根据物理原理，实现角度偏移的原因是杆顶部的速度与杆底部和小车相连部分速度不同导致的，小车的角度变化取决于速度差，因此需要包含这两项作为状态向量。\n",
    "- **action**：二维向量，0表示向左移动，1表示向右移动\n",
    "- **value**：某一状态获取到的reward的期望。\n",
    "- **reward**： 游戏坚持1帧没有结束，就收到价值为1的奖励\n",
    "\n",
    "---\n",
    "\n",
    "## 2 实现过程\n",
    "使用一个小型全连接神经网络来训练模型，接受4维状态向量作为输入，输出二维动作向量。\n",
    "\n",
    "使用经典的`DQN`算法来实现cartpole。\n",
    "\n",
    "### 2.1 DQN算法伪代码\n",
    "初始化以下内容:\n",
    "\n",
    "- 经验回放缓冲区$\\mathcal{D}$(experience replay memory)\n",
    "- Q网络参数$\\theta$\n",
    "- 固定目标网络参数$\\theta'$\n",
    "- $\\varepsilon$-greedy参数策略参数$\\varepsilon$\n",
    "- 环境以及环境初始状态s\n",
    "\n",
    "重复执行以下步骤直到收敛：\n",
    "\n",
    "1. 选择动作$a$：以$\\varepsilon$的概率选择随机初始动作，否则选择Q值最大的动作\n",
    "2. 执行动作$a$，观察奖励$r$和下一个状态$s'$，存储经验样本$(s,a,r,s')$到缓冲区$\\mathcal{D}$ \n",
    "3. 从缓冲区$\\mathcal{D}$中随机采样一批经验样本，计算目标Q值：\n",
    "\n",
    "    如果s'是终止状态，$Q = r$\n",
    "    \n",
    "    否则，$Q = r+\\gamma \\times max(Q(s',a',\\theta'))$，其中$a'$是从Q网络中选择的动作\n",
    "4. 将目标Q值和当前Q值的差异作为损失函数，使用梯度下降法更新Q网络的参数$\\theta$\n",
    "5. 更新$\\varepsilon$的值\n",
    "\n",
    "收敛后，返回训练好的Q网络。\n",
    "\n",
    "> 参数解释：$\\gamma$ 表示 `discount factor`，介于0到1之间，reward乘上$\\gamma$保证一定收敛。\n",
    "\n",
    "### 2.2 训练模型与可视化结果\n",
    "使用以下库完成实验，首先设置好训练环境。"
   ]
  },
  {
   "cell_type": "code",
   "execution_count": 1,
   "metadata": {},
   "outputs": [],
   "source": [
    "import gym\n",
    "import math\n",
    "import random\n",
    "import matplotlib\n",
    "import matplotlib.pyplot as plt\n",
    "from collections import namedtuple, deque\n",
    "from itertools import count\n",
    "\n",
    "import torch\n",
    "import torch.nn as nn\n",
    "import torch.optim as optim\n",
    "import torch.nn.functional as F\n",
    "\n",
    "env = gym.make(\"CartPole-v1\",render_mode=\"rgb_array\")\n",
    "\n",
    "# set up matplotlib\n",
    "is_ipython = 'inline' in matplotlib.get_backend()\n",
    "if is_ipython:\n",
    "    from IPython import display\n",
    "\n",
    "plt.ion()\n",
    "\n",
    "# if cuda is available use gpu\n",
    "device = torch.device(\"cuda\" if torch.cuda.is_available() else \"cpu\")"
   ]
  },
  {
   "cell_type": "markdown",
   "metadata": {},
   "source": [
    "定义经验回放缓冲区。"
   ]
  },
  {
   "cell_type": "code",
   "execution_count": 2,
   "metadata": {},
   "outputs": [],
   "source": [
    "Transition = namedtuple('Transition',('state', 'action', 'next_state', 'reward'))\n",
    "\n",
    "\n",
    "class ReplayMemory(object):\n",
    "\n",
    "    def __init__(self, capacity):\n",
    "        self.memory = deque([], maxlen=capacity)\n",
    "\n",
    "    def push(self, *args):\n",
    "        \"\"\"Save a transition\"\"\"\n",
    "        self.memory.append(Transition(*args))\n",
    "\n",
    "    def sample(self, batch_size):\n",
    "        return random.sample(self.memory, batch_size)\n",
    "\n",
    "    def __len__(self):\n",
    "        return len(self.memory)"
   ]
  },
  {
   "cell_type": "markdown",
   "metadata": {},
   "source": [
    "定义Q-network模型。"
   ]
  },
  {
   "cell_type": "code",
   "execution_count": 3,
   "metadata": {},
   "outputs": [],
   "source": [
    "class DQN(nn.Module):\n",
    "\n",
    "    def __init__(self, n_observations, n_actions):\n",
    "        super(DQN, self).__init__()\n",
    "        self.layer1 = nn.Linear(n_observations, 128)\n",
    "        self.layer2 = nn.Linear(128, 128)\n",
    "        self.layer3 = nn.Linear(128, n_actions)\n",
    "\n",
    "    # Returns tensor([[left0exp,right0exp]...]).\n",
    "    def forward(self, x):\n",
    "        x = F.relu(self.layer1(x))\n",
    "        x = F.relu(self.layer2(x))\n",
    "        return self.layer3(x)"
   ]
  },
  {
   "cell_type": "markdown",
   "metadata": {},
   "source": [
    "定义训练需要的超参数和辅助函数。定义`select_action`函数根据对应的贪心策略从模型中选择下一个动作。"
   ]
  },
  {
   "cell_type": "code",
   "execution_count": 4,
   "metadata": {},
   "outputs": [],
   "source": [
    "BATCH_SIZE = 128 # the number of samples picked from replay memory\n",
    "GAMMA = 0.99 # discount factor\n",
    "EPS_START = 0.9 # start value of epsilon\n",
    "EPS_END = 0.05 # final value of epsilon\n",
    "EPS_DECAY = 1000\n",
    "TAU = 0.005 # update rate of network\n",
    "LR = 1e-4 # the learning rate using AdamW optimizer\n",
    "\n",
    "# Get number of actions from gym action space\n",
    "n_actions = env.action_space.n\n",
    "# Get the number of state observations\n",
    "state, info = env.reset()\n",
    "n_observations = len(state)\n",
    "\n",
    "policy_net = DQN(n_observations, n_actions).to(device)\n",
    "target_net = DQN(n_observations, n_actions).to(device)\n",
    "target_net.load_state_dict(policy_net.state_dict())\n",
    "\n",
    "# use AdamW as optimizer\n",
    "optimizer = optim.AdamW(policy_net.parameters(), lr=LR, amsgrad=True)\n",
    "memory = ReplayMemory(10000)\n",
    "\n",
    "\n",
    "steps_done = 0\n",
    "\n",
    "\n",
    "def select_action(state):\n",
    "    '''select an action according to an epsilon greedy policy'''\n",
    "    global steps_done\n",
    "    sample = random.random()\n",
    "    eps_threshold = EPS_END + (EPS_START - EPS_END) * \\\n",
    "        math.exp(-1. * steps_done / EPS_DECAY)\n",
    "    steps_done += 1\n",
    "    if sample > eps_threshold:\n",
    "        with torch.no_grad():\n",
    "            # t.max(1) will return the largest column value of each row.\n",
    "            # second column on max result is index of where max element was\n",
    "            # found, so we pick action with the larger expected reward.\n",
    "            return policy_net(state).max(1)[1].view(1, 1)\n",
    "    else:\n",
    "        return torch.tensor([[env.action_space.sample()]], device=device, dtype=torch.long)\n",
    "\n",
    "\n",
    "episode_durations = []\n",
    "\n",
    "\n",
    "def plot_durations(show_result=False):\n",
    "    plt.figure()\n",
    "    plt.subplot(211)\n",
    "    durations_t = torch.tensor(episode_durations, dtype=torch.float)\n",
    "    if show_result:\n",
    "        plt.title('Result')\n",
    "    else:\n",
    "        plt.clf()\n",
    "        plt.title('Training Process')\n",
    "    plt.xlabel('Episode')\n",
    "    plt.ylabel('Duration')\n",
    "    plt.plot(durations_t.numpy())\n",
    "    # Take 100 episode averages and plot them too\n",
    "    if len(durations_t) >= 100:\n",
    "        means = durations_t.unfold(0, 100, 1).mean(1).view(-1)\n",
    "        means = torch.cat((torch.zeros(99), means))\n",
    "        plt.plot(means.numpy())\n",
    "\n",
    "    plt.pause(0.001)  # pause a bit so that plots are updated\n",
    "    if is_ipython:\n",
    "        if not show_result:\n",
    "            display.display(plt.gcf())\n",
    "            display.clear_output(wait=True)\n",
    "        else:\n",
    "            display.display(plt.gcf())"
   ]
  },
  {
   "cell_type": "markdown",
   "metadata": {},
   "source": [
    "定义`optimize_model`函数用于实现梯度下降优化模型。"
   ]
  },
  {
   "cell_type": "code",
   "execution_count": 5,
   "metadata": {},
   "outputs": [],
   "source": [
    "def optimize_model():\n",
    "    if len(memory) < BATCH_SIZE:\n",
    "        return\n",
    "    transitions = memory.sample(BATCH_SIZE)\n",
    "    # Transpose the batch\n",
    "    batch = Transition(*zip(*transitions))\n",
    "\n",
    "    # Compute a mask of non-final states and concatenate the batch elements\n",
    "    non_final_mask = torch.tensor(tuple(map(lambda s: s is not None,\n",
    "                                          batch.next_state)), device=device, dtype=torch.bool)\n",
    "    non_final_next_states = torch.cat([s for s in batch.next_state\n",
    "                                                if s is not None])\n",
    "    state_batch = torch.cat(batch.state)\n",
    "    action_batch = torch.cat(batch.action)\n",
    "    reward_batch = torch.cat(batch.reward)\n",
    "\n",
    "    # Compute Q(s_t, a) - the model computes Q(s_t)\n",
    "    # select the columns of actions taken.\n",
    "    state_action_values = policy_net(state_batch).gather(1, action_batch)\n",
    "\n",
    "    # Compute V(s_{t+1}) for all next states.\n",
    "    next_state_values = torch.zeros(BATCH_SIZE, device=device)\n",
    "    with torch.no_grad():\n",
    "        next_state_values[non_final_mask] = target_net(non_final_next_states).max(1)[0]\n",
    "    # Compute the expected Q values\n",
    "    expected_state_action_values = (next_state_values * GAMMA) + reward_batch\n",
    "\n",
    "    # Compute Huber loss\n",
    "    criterion = nn.SmoothL1Loss()\n",
    "    loss = criterion(state_action_values, expected_state_action_values.unsqueeze(1))\n",
    "\n",
    "    # Optimize the model\n",
    "    optimizer.zero_grad()\n",
    "    loss.backward()\n",
    "    # In-place gradient clipping\n",
    "    torch.nn.utils.clip_grad_value_(policy_net.parameters(), 100)\n",
    "    optimizer.step()"
   ]
  },
  {
   "cell_type": "markdown",
   "metadata": {},
   "source": [
    "接下来实现完整的训练过程。\n",
    "\n",
    "1. 初始化环境，获得初始状态。\n",
    "2. 选择一个action并执行。\n",
    "3. 获取下一个状态和对应的reward，在经验回放缓冲区存储这一次状态转移。\n",
    "4. 优化一次模型。\n"
   ]
  },
  {
   "cell_type": "code",
   "execution_count": 6,
   "metadata": {},
   "outputs": [
    {
     "name": "stdout",
     "output_type": "stream",
     "text": [
      "Complete\n"
     ]
    },
    {
     "data": {
      "image/png": "[encoded data removed]",
      "text/plain": [
       "<Figure size 640x480 with 1 Axes>"
      ]
     },
     "metadata": {},
     "output_type": "display_data"
    },
    {
     "data": {
      "image/png": "[encoded data removed]",
      "text/plain": [
       "<Figure size 640x480 with 1 Axes>"
      ]
     },
     "metadata": {},
     "output_type": "display_data"
    },
    {
     "data": {
      "text/plain": [
       "<Figure size 640x480 with 0 Axes>"
      ]
     },
     "metadata": {},
     "output_type": "display_data"
    },
    {
     "data": {
      "text/plain": [
       "<Figure size 640x480 with 0 Axes>"
      ]
     },
     "metadata": {},
     "output_type": "display_data"
    }
   ],
   "source": [
    "num_episodes = 200\n",
    "\n",
    "for i_episode in range(num_episodes):\n",
    "    # Initialize the environment and get it's state\n",
    "    state, info = env.reset()\n",
    "    state = torch.tensor(state, dtype=torch.float32, device=device).unsqueeze(0)\n",
    "    for t in count():\n",
    "        action = select_action(state)\n",
    "        # get next state and reward\n",
    "        observation, reward, terminated, truncated, _ = env.step(action.item())\n",
    "        reward = torch.tensor([reward], device=device)\n",
    "        done = terminated or truncated\n",
    "\n",
    "        if terminated:\n",
    "            next_state = None\n",
    "        else:\n",
    "            next_state = torch.tensor(observation, dtype=torch.float32, device=device).unsqueeze(0)\n",
    "\n",
    "        # Store the transition in memory\n",
    "        memory.push(state, action, next_state, reward)\n",
    "\n",
    "        # Move to the next state\n",
    "        state = next_state\n",
    "\n",
    "        # Perform one step of the optimization (on the policy network)\n",
    "        optimize_model()\n",
    "\n",
    "        # Soft update of the target network's weights\n",
    "        target_net_state_dict = target_net.state_dict()\n",
    "        policy_net_state_dict = policy_net.state_dict()\n",
    "        for key in policy_net_state_dict:\n",
    "            target_net_state_dict[key] = policy_net_state_dict[key]*TAU + target_net_state_dict[key]*(1-TAU)\n",
    "        target_net.load_state_dict(target_net_state_dict)\n",
    "\n",
    "        if done:\n",
    "            episode_durations.append(t + 1)\n",
    "            plot_durations()\n",
    "            break\n",
    "    render = lambda: plt.imshow(env.render())\n",
    "    plt.subplot(212)\n",
    "    render()\n",
    "    \n",
    "\n",
    "print('Complete')\n",
    "env.close()\n",
    "plot_durations(show_result=True)\n",
    "plt.ioff()\n",
    "plt.show()"
   ]
  },
  {
   "cell_type": "markdown",
   "metadata": {},
   "source": [
    "----\n",
    "\n",
    "## 参考资料\n",
    "1. https://pytorch.org/tutorials/intermediate/reinforcement_q_learning.html\n",
    "2. https://www.jianshu.com/p/d15090f5a6ea"
   ]
  }
 ],
 "metadata": {
  "kernelspec": {
   "display_name": "faq",
   "language": "python",
   "name": "python3"
  },
  "language_info": {
   "codemirror_mode": {
    "name": "ipython",
    "version": 3
   },
   "file_extension": ".py",
   "mimetype": "text/x-python",
   "name": "python",
   "nbconvert_exporter": "python",
   "pygments_lexer": "ipython3",
   "version": "3.10.6"
  }
 },
 "nbformat": 4,
 "nbformat_minor": 2
}
