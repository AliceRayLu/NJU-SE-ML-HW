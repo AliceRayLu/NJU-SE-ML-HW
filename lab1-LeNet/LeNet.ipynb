{
 "cells": [
  {
   "cell_type": "markdown",
   "metadata": {},
   "source": [
    "# Lab1: LeNet\n",
    "---"
   ]
  },
  {
   "cell_type": "markdown",
   "metadata": {},
   "source": [
    "## 1 模型结构\n",
    "本次实验实现的模型为`LeNet5`，在`CIFAR-10`数据集上进行分类实验。CIFAR-10数据集是彩色带标签图像数据集，\n",
    "每张图像尺寸为$32\\times 32$。因此图像具有3个通道，模型输入为$3\\times 32 \\times 32$。\n",
    "\n",
    "模型结构依次如下：\n",
    "- 卷积层1：图像输入深度=3，图像输出深度/卷积核个数=16，卷积核大小=$5\\times 5$，步长=1\n",
    "    （输入矩阵：$3\\times 32\\times 32$，输出矩阵：$16\\times 28\\times 28$）\n",
    "- 池化层1：过滤器大小=$2\\times 2$，步长=2\n",
    "    （输出矩阵：$16\\times 14\\times 14$）\n",
    "- 卷积层2：图像输入深度=卷积层1输出深度=16，图像输出深度=32，卷积核大小=$5\\times 5$，步长=1\n",
    "    （输出矩阵：$32\\times 10\\times 10$）\n",
    "- 池化层2：过滤器大小=$2\\times 2$，步长=2\n",
    "    （输出矩阵：$32\\times 5\\times 5$）\n",
    "- 全连接层1：输出节点120个\n",
    "- 全连接层2：输出节点84个\n",
    "- 全连接层3：输出节点10个\n",
    "\n",
    "本次实验用到的库如下："
   ]
  },
  {
   "cell_type": "code",
   "execution_count": 13,
   "metadata": {},
   "outputs": [],
   "source": [
    "import torch\n",
    "import torchvision\n",
    "import torchvision.transforms as transforms\n",
    "import matplotlib.pyplot as plt\n",
    "import numpy as np\n",
    "import torch.nn as nn\n",
    "import torch.nn.functional as F\n",
    "import torch.optim as optim\n",
    "import pandas as pd"
   ]
  },
  {
   "cell_type": "code",
   "execution_count": 2,
   "metadata": {},
   "outputs": [],
   "source": [
    "class LeNet(nn.Module):\n",
    "    def __init__(self):\n",
    "        super(LeNet,self).__init__()\n",
    "        # convolution layer1\n",
    "        self.conv1 = nn.Conv2d(in_channels=3,out_channels=16,kernel_size=5,stride=1)\n",
    "        # pool layer1\n",
    "        self.pool1 = nn.MaxPool2d(kernel_size=2,stride=2)\n",
    "        # convolution layer2\n",
    "        self.conv2 = nn.Conv2d(in_channels=16,out_channels=32,kernel_size=5,stride=1)\n",
    "        # pool layer2\n",
    "        self.pool2 = nn.MaxPool2d(kernel_size=2, stride=2)\n",
    "        # fully connected layer1\n",
    "        self.fc1 = nn.Linear(32*5*5,120)\n",
    "        # fully connected layer2\n",
    "        self.fc2 = nn.Linear(120,84)\n",
    "        # fully connected layer3\n",
    "        self.fc3 = nn.Linear(84,10)\n",
    "\n",
    "    def forward(self,x):\n",
    "        # convolution -> activation function -> pool\n",
    "        x = F.relu(self.conv1(x))  # conv(3*32*32) -> activation(16*28*28)\n",
    "        x = self.pool1(x)  # activation -> pool\n",
    "        x = F.relu(self.conv2(x))\n",
    "        x = self.pool2(x) \n",
    "        # reshape the output size automatically into 32*5*5\n",
    "        x = x.view(-1, 32 * 5 * 5)  \n",
    "        # fully connected -> activation function\n",
    "        x = F.relu(self.fc1(x))  # output(120)\n",
    "        x = F.relu(self.fc2(x))  # output(84)\n",
    "        x = self.fc3(x)  # output(10)\n",
    "        return x"
   ]
  },
  {
   "cell_type": "markdown",
   "metadata": {},
   "source": [
    "`LeNet`类继承自`nn.Module`类，包括初始化函数和前向传播函数。本次实验使用`relu`函数作为激活函数，克服梯度消失问题。\n",
    "\n",
    "---\n",
    "\n",
    "## 2 数据集处理\n",
    "从`torchvision.datasets`中下载数据集，包括训练集和测试集。\n",
    "\n",
    "使用`transforms.Compose`拼接函数，使用`ToTensor`将Image转化为tensor格式，然后使用`normalize`将tensor标准化/归一化，加快模型收敛。"
   ]
  },
  {
   "cell_type": "code",
   "execution_count": 11,
   "metadata": {},
   "outputs": [
    {
     "name": "stdout",
     "output_type": "stream",
     "text": [
      "Files already downloaded and verified\n",
      "Files already downloaded and verified\n"
     ]
    }
   ],
   "source": [
    "transform = transforms.Compose([transforms.ToTensor(),transforms.Normalize((0.5, 0.5, 0.5), (0.5, 0.5, 0.5))])\n",
    "\n",
    "train_set = torchvision.datasets.CIFAR10(root='./data', train=True, download=True, transform=transform)\n",
    "test_set = torchvision.datasets.CIFAR10(root='./data', train=False, download=True, transform=transform)\n",
    "# load data\n",
    "trainloader = torch.utils.data.DataLoader(train_set, batch_size=4, shuffle=True)\n",
    "testloader = torch.utils.data.DataLoader(test_set, batch_size=4, shuffle=False)\n",
    "# the dataset's classes names\n",
    "classes = ('plane', 'car', 'bird', 'cat','deer', 'dog', 'frog', 'horse', 'ship', 'truck')"
   ]
  },
  {
   "cell_type": "markdown",
   "metadata": {},
   "source": [
    "查看数据集中的数据情况，打印出一个batch。从数据集中直接获取到的image是tensor形式，需要反标准化将tensor转换成图像。使用`show`函数实现。"
   ]
  },
  {
   "cell_type": "code",
   "execution_count": 12,
   "metadata": {},
   "outputs": [
    {
     "name": "stdout",
     "output_type": "stream",
     "text": [
      "       ship       truck         cat         car\n"
     ]
    },
    {
     "data": {
      "image/png": "[encoded data removed]",
      "text/plain": [
       "<Figure size 640x480 with 1 Axes>"
      ]
     },
     "metadata": {},
     "output_type": "display_data"
    }
   ],
   "source": [
    "def show(img):\n",
    "    img = img / 2 + 0.5 \n",
    "    npimg = img.numpy()\n",
    "    # pytorch presentation: [channel, height, width]\n",
    "    # plt use numpy: [height, width, channel]\n",
    "    # use np.transpose() to change axis order\n",
    "    plt.imshow(np.transpose(npimg, (1, 2, 0)))\n",
    "    plt.show()\n",
    "\n",
    "dataiter = iter(trainloader)\n",
    "images, labels = dataiter.__next__()  # return 4 pics and labels\n",
    "print(' '.join('%11s' % classes[labels[j]] for j in range(4)))  # print labels\n",
    "show(torchvision.utils.make_grid((images + 1) / 2))"
   ]
  },
  {
   "cell_type": "markdown",
   "metadata": {},
   "source": [
    "---"
   ]
  },
  {
   "cell_type": "markdown",
   "metadata": {},
   "source": [
    "## 3 训练模型\n",
    "\n",
    "使用交叉熵损失函数，同时选择Adam优化器优化，学习率设为0.001"
   ]
  },
  {
   "cell_type": "code",
   "execution_count": 14,
   "metadata": {},
   "outputs": [],
   "source": [
    "# use cuda if available\n",
    "device = torch.device(\"cuda:0\" if torch.cuda.is_available() else \"cpu\")\n",
    "\n",
    "net = LeNet()\n",
    "net_model = net.to(device)\n",
    "\n",
    "loss_function = nn.CrossEntropyLoss()\n",
    "# choose Adam to optimize, learning rate=0.001\n",
    "optimizer = optim.Adam(net.parameters(), lr=0.001)\n",
    "\n",
    "max_epoch = 20 # train 20 epochs"
   ]
  },
  {
   "cell_type": "markdown",
   "metadata": {},
   "source": [
    "训练总共进行20轮，在训练过程中绘制出损失函数变化和整体准确率变化，以及每一类的准确率变化。"
   ]
  },
  {
   "cell_type": "code",
   "execution_count": null,
   "metadata": {},
   "outputs": [],
   "source": []
  }
 ],
 "metadata": {
  "kernelspec": {
   "display_name": "faq",
   "language": "python",
   "name": "python3"
  },
  "language_info": {
   "codemirror_mode": {
    "name": "ipython",
    "version": 3
   },
   "file_extension": ".py",
   "mimetype": "text/x-python",
   "name": "python",
   "nbconvert_exporter": "python",
   "pygments_lexer": "ipython3",
   "version": "3.10.6"
  }
 },
 "nbformat": 4,
 "nbformat_minor": 2
}
